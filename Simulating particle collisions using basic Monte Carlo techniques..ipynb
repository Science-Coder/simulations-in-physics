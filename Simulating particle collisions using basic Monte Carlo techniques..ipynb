{
 "cells": [
  {
   "cell_type": "markdown",
   "id": "bd8cfc40",
   "metadata": {},
   "source": [
    "# # Simulating the detection and analysis of particle collisions using basic Monte Carlo techniques.\n",
    "\n"
   ]
  },
  {
   "cell_type": "markdown",
   "id": "4d16718c",
   "metadata": {},
   "source": [
    "Step 1: Import the necessary libraries"
   ]
  },
  {
   "cell_type": "code",
   "execution_count": 6,
   "id": "54fb31f6",
   "metadata": {},
   "outputs": [],
   "source": [
    "import numpy as np\n",
    "import matplotlib.pyplot as plt\n",
    "\n"
   ]
  },
  {
   "cell_type": "markdown",
   "id": "87cb4c59",
   "metadata": {},
   "source": [
    "Step 2: Define the simulation parameters"
   ]
  },
  {
   "cell_type": "code",
   "execution_count": 7,
   "id": "9eb7189b",
   "metadata": {},
   "outputs": [],
   "source": [
    "num_events = 1000  # Number of collision events to simulate\n",
    "energy_mean = 10.0  # Mean energy of the particles\n",
    "energy_std = 2.0  # Standard deviation of the energy distribution\n"
   ]
  },
  {
   "cell_type": "markdown",
   "id": "13613827",
   "metadata": {},
   "source": [
    "Step 3: Simulate particle collision events\n",
    "\n",
    "in this step, we generate random energies for each particle collision event, simulate the detection of particles based on a probability distribution, and filter out the particles based on a threshold energy"
   ]
  },
  {
   "cell_type": "code",
   "execution_count": 8,
   "id": "df10bf9a",
   "metadata": {},
   "outputs": [],
   "source": [
    "# Simulate the energies of the particles\n",
    "energies = np.random.normal(energy_mean, energy_std, size=num_events)\n",
    "\n",
    "# Simulate the detection of particles\n",
    "detected_particles = np.random.choice([0, 1], size=num_events, p=[0.2, 0.8])\n",
    "\n",
    "# Filter the detected particles based on a threshold energy\n",
    "threshold_energy = 8.0\n",
    "selected_particles = energies[detected_particles == 1][energies[detected_particles == 1] > threshold_energy]\n"
   ]
  },
  {
   "cell_type": "markdown",
   "id": "51a8a6d2",
   "metadata": {},
   "source": [
    "Step 4: Analyze the data and visualize the results\n",
    "\n",
    "In this step, we analyze the selected particles by calculating the number of selected particles, the mean energy, and the standard deviation of the energy for the selected particles. We also visualize the energy distribution of all particles and the selected particles using a histogram."
   ]
  },
  {
   "cell_type": "code",
   "execution_count": 9,
   "id": "0de5c010",
   "metadata": {},
   "outputs": [
    {
     "data": {
      "image/png": "[encoded data removed]",
      "text/plain": [
       "<Figure size 432x288 with 1 Axes>"
      ]
     },
     "metadata": {
      "needs_background": "light"
     },
     "output_type": "display_data"
    },
    {
     "name": "stdout",
     "output_type": "stream",
     "text": [
      "Number of selected particles: 690\n",
      "Mean energy of selected particles: 10.60\n",
      "Standard deviation of energy for selected particles: 1.65\n"
     ]
    }
   ],
   "source": [
    "# Analyze the selected particles\n",
    "num_selected_particles = len(selected_particles)\n",
    "mean_energy_selected = np.mean(selected_particles)\n",
    "std_energy_selected = np.std(selected_particles)\n",
    "\n",
    "# Visualize the energy distribution\n",
    "plt.hist(energies, bins=20, alpha=0.5, label='All Particles')\n",
    "plt.hist(selected_particles, bins=20, alpha=0.5, label='Selected Particles')\n",
    "plt.axvline(threshold_energy, color='r', linestyle='--', label='Threshold Energy')\n",
    "plt.xlabel('Energy')\n",
    "plt.ylabel('Counts')\n",
    "plt.legend()\n",
    "plt.show()\n",
    "\n",
    "# Print the analysis results\n",
    "print(f\"Number of selected particles: {num_selected_particles}\")\n",
    "print(f\"Mean energy of selected particles: {mean_energy_selected:.2f}\")\n",
    "print(f\"Standard deviation of energy for selected particles: {std_energy_selected:.2f}\")\n"
   ]
  },
  {
   "cell_type": "code",
   "execution_count": null,
   "id": "7a2d1ecd",
   "metadata": {},
   "outputs": [],
   "source": []
  },
  {
   "cell_type": "code",
   "execution_count": null,
   "id": "e5938b2c",
   "metadata": {},
   "outputs": [],
   "source": []
  }
 ],
 "metadata": {
  "kernelspec": {
   "display_name": "Python 3 (ipykernel)",
   "language": "python",
   "name": "python3"
  },
  "language_info": {
   "codemirror_mode": {
    "name": "ipython",
    "version": 3
   },
   "file_extension": ".py",
   "mimetype": "text/x-python",
   "name": "python",
   "nbconvert_exporter": "python",
   "pygments_lexer": "ipython3",
   "version": "3.9.7"
  }
 },
 "nbformat": 4,
 "nbformat_minor": 5
}
